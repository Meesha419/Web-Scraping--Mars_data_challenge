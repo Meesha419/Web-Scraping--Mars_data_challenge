{
 "cells": [
  {
   "cell_type": "code",
   "execution_count": 59,
   "id": "1081dc40",
   "metadata": {},
   "outputs": [],
   "source": [
    "\n",
    "from bs4 import BeautifulSoup as bs\n",
    "import requests\n",
    "from splinter import Browser\n",
    "import pandas as pd\n",
    "import time\n",
    "from webdriver_manager.chrome import ChromeDriverManager"
   ]
  },
  {
   "cell_type": "code",
   "execution_count": 60,
   "id": "3d9adeb7",
   "metadata": {},
   "outputs": [],
   "source": [
    "# URL of page to be scraped\n",
    "url_marsnews = \"https://redplanetscience.com/\""
   ]
  },
  {
   "cell_type": "code",
   "execution_count": 61,
   "id": "184412af",
   "metadata": {},
   "outputs": [],
   "source": [
    "def scrape():\n",
    "# Setup configuration variables to enable Splinter to interact with browser\n",
    "    driverPath = [\"/usr/local/bin/chromedriver\"]  # For MacBook\n",
    " \n",
    "    executable_path = {\"executable_path\": driverPath[0]}\n",
    "    browser = Browser(\"chrome\", **executable_path, headless=True)\n",
    "    browser.visit(url)\n",
    "    time.sleep(1)\n",
    "    \n",
    "html = browser.html\n",
    "soup = bs(html,'html.parser')"
   ]
  },
  {
   "cell_type": "code",
   "execution_count": 62,
   "id": "a2692599",
   "metadata": {},
   "outputs": [],
   "source": [
    "executable_path = {'executable_path': ChromeDriverManager().install()}\n",
    "browser = Browser('chrome', **executable_path, headless=False)"
   ]
  },
  {
   "cell_type": "code",
   "execution_count": 63,
   "id": "4c2de422",
   "metadata": {},
   "outputs": [],
   "source": [
    "# Create a empty dictionary to store the data\n",
    "scraped_data = {}"
   ]
  },
  {
   "cell_type": "code",
   "execution_count": 64,
   "id": "dc8d9e5f",
   "metadata": {},
   "outputs": [],
   "source": [
    " # Use the browser to visit the url\n",
    "browser.visit(url_marsnews)"
   ]
  },
  {
   "cell_type": "code",
   "execution_count": null,
   "id": "125d0c8e",
   "metadata": {},
   "outputs": [],
   "source": [
    "#html = browser.html"
   ]
  },
  {
   "cell_type": "code",
   "execution_count": 65,
   "id": "4f65b0a0",
   "metadata": {},
   "outputs": [],
   "source": [
    "soup = bs(html, \"html.parser\")"
   ]
  },
  {
   "cell_type": "code",
   "execution_count": null,
   "id": "0f362979",
   "metadata": {},
   "outputs": [],
   "source": [
    "#listings[\"title\"] = soup.find(\"a\", class_=\"title\").get_text()"
   ]
  },
  {
   "cell_type": "code",
   "execution_count": 72,
   "id": "84d0f817",
   "metadata": {},
   "outputs": [
    {
     "data": {
      "text/plain": [
       "'Mars Scientists Investigate Ancient Life in Australia'"
      ]
     },
     "execution_count": 72,
     "metadata": {},
     "output_type": "execute_result"
    }
   ],
   "source": [
    "latest_news = soup.find_all(\"div\", class_=\"content_title\")[0]\n",
    "\n",
    "latest_news_title = latest_news.text\n",
    "latest_news_title\n",
    "\n"
   ]
  },
  {
   "cell_type": "code",
   "execution_count": 73,
   "id": "78d8aa9c",
   "metadata": {},
   "outputs": [
    {
     "data": {
      "text/plain": [
       "\"Teams with NASA's Mars 2020 and ESA's ExoMars practiced hunting for fossilized microbial life in the Australian Outback in preparation for their Red Planet missions. \""
      ]
     },
     "execution_count": 73,
     "metadata": {},
     "output_type": "execute_result"
    }
   ],
   "source": [
    "paragraph = soup.find_all(\"div\", class_=\"article_teaser_body\")[0]\n",
    "\n",
    "paragraph = paragraph.text\n",
    "paragraph"
   ]
  },
  {
   "cell_type": "code",
   "execution_count": 74,
   "id": "6c7e9610",
   "metadata": {},
   "outputs": [],
   "source": [
    "browser.quit()"
   ]
  },
  {
   "cell_type": "code",
   "execution_count": null,
   "id": "13019fc8",
   "metadata": {},
   "outputs": [],
   "source": []
  }
 ],
 "metadata": {
  "kernelspec": {
   "display_name": "Python 3.7.7 ('PythonData')",
   "language": "python",
   "name": "python3"
  },
  "language_info": {
   "codemirror_mode": {
    "name": "ipython",
    "version": 3
   },
   "file_extension": ".py",
   "mimetype": "text/x-python",
   "name": "python",
   "nbconvert_exporter": "python",
   "pygments_lexer": "ipython3",
   "version": "3.7.7"
  },
  "vscode": {
   "interpreter": {
    "hash": "9da66beca27f19bdf81de16e0121a30aa04d4edd5eb88e9a5610932102b72b6f"
   }
  }
 },
 "nbformat": 4,
 "nbformat_minor": 5
}
